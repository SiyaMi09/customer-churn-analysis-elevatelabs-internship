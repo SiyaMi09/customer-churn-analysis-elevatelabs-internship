{
 "cells": [
  {
   "cell_type": "markdown",
   "id": "85ece348-8ccc-496b-af79-fd65a585907e",
   "metadata": {},
   "source": [
    "# Data Analyst Internship - Elevate Labs\n",
    "## Projrc"
   ]
  },
  {
   "cell_type": "markdown",
   "id": "0567cbb8-4a71-48bc-b2f9-f6797ac4010c",
   "metadata": {},
   "source": [
    "# Phase 1: Data cleaning and exploration (EDA).\n",
    "\n",
    "Phase 1 provide a clear understanding of the dataset, highlighted missing values, imbalanced target, and important visual trends. This forms the foundation for effective preprocessing and predictive modeling in the next phase."
   ]
  },
  {
   "cell_type": "markdown",
   "id": "3ab793da-a266-4593-806c-2d42fc1ddc71",
   "metadata": {},
   "source": [
    "## Importing necessary libraries"
   ]
  },
  {
   "cell_type": "code",
   "execution_count": 28,
   "id": "58ab3a99-766a-4223-a4f4-c5c5b81e34f6",
   "metadata": {},
   "outputs": [],
   "source": [
    "import pandas as pd\n",
    "import seaborn as sns\n",
    "import matplotlib.pyplot as plt"
   ]
  },
  {
   "cell_type": "markdown",
   "id": "443649df-1718-45f0-9ecd-95b80c589241",
   "metadata": {},
   "source": [
    "## 📥 Step 1: Dataset Loading"
   ]
  },
  {
   "cell_type": "code",
   "execution_count": 29,
   "id": "d1e1c5b0-f6d6-49f5-b4fb-43161440f9e2",
   "metadata": {},
   "outputs": [],
   "source": [
    "# Load data\n",
    "df = pd.read_csv(\"D:/.csv/WA_Fn-UseC_-Telco-Customer-Churn.csv\")"
   ]
  },
  {
   "cell_type": "markdown",
   "id": "5e61b4c4-f726-465f-8e64-a13436e92225",
   "metadata": {},
   "source": [
    "We used the Telco Customer Churn dataset from Kaggle, which contains records of telecom customers along with information such as their tenure, services used, and whether they have churned."
   ]
  },
  {
   "cell_type": "markdown",
   "id": "e4454df1-e500-4225-a237-4abc1fb6d52d",
   "metadata": {},
   "source": [
    "## 📊 Step 2: Dataset Overview — Shape, Data Types, and Missing Values"
   ]
  },
  {
   "cell_type": "code",
   "execution_count": 30,
   "id": "89b4fb98-c894-460f-9be7-813b70e73b7c",
   "metadata": {},
   "outputs": [
    {
     "name": "stdout",
     "output_type": "stream",
     "text": [
      "📏 Dataset Shape:\n",
      "(7043, 21)\n",
      "\n",
      "--------------------------------------------------\n",
      "📊 Data Type & 🧼 Missing Value Summary:\n",
      "                 Data Type  Missing Values\n",
      "customerID          object               0\n",
      "gender              object               0\n",
      "SeniorCitizen        int64               0\n",
      "Partner             object               0\n",
      "Dependents          object               0\n",
      "tenure             float64               2\n",
      "PhoneService        object               0\n",
      "MultipleLines       object               0\n",
      "InternetService     object               2\n",
      "OnlineSecurity      object               0\n",
      "OnlineBackup        object               0\n",
      "DeviceProtection    object               0\n",
      "TechSupport         object               0\n",
      "StreamingTV         object               0\n",
      "StreamingMovies     object               0\n",
      "Contract            object               1\n",
      "PaperlessBilling    object               0\n",
      "PaymentMethod       object               0\n",
      "MonthlyCharges     float64               3\n",
      "TotalCharges        object               0\n",
      "Churn               object               0\n",
      "\n",
      "--------------------------------------------------\n"
     ]
    }
   ],
   "source": [
    "# Dataset shape\n",
    "print(\"📏 Dataset Shape:\")\n",
    "print(df.shape)\n",
    "print(\"\\n\" + \"-\"*50)\n",
    "\n",
    "# Data types and missing values\n",
    "summary_df = pd.DataFrame({\n",
    "    'Data Type': df.dtypes,\n",
    "    'Missing Values': df.isnull().sum()\n",
    "})\n",
    "\n",
    "print(\"📊 Data Type & 🧼 Missing Value Summary:\")\n",
    "print(summary_df)\n",
    "print(\"\\n\" + \"-\"*50)"
   ]
  },
  {
   "cell_type": "markdown",
   "id": "0ff6c25b-7ee2-496d-bc62-8bd26ae9d6a0",
   "metadata": {},
   "source": [
    "After loading the data, we checked:\n",
    "- **Shape:** Total number of rows and columns\n",
    "- **Data Types:** To distinguish between categorical and numerical columns\n",
    "- **Missing Values:** Columns with null or empty entries\n",
    "\n",
    "📝 Key Findings:\n",
    "- The dataset has **7,043 rows and 21 columns**.\n",
    "- Most columns are of type `object`, indicating categorical data.\n",
    "- The `TotalCharges` column contains **11 missing values**, which we’ll clean in the next phase.\n",
    "\n",
    "This overview helps us plan preprocessing steps and avoid issues in model training.\n"
   ]
  },
  {
   "cell_type": "markdown",
   "id": "f73fb27d-2f83-41a1-8c96-7c5b0f445844",
   "metadata": {},
   "source": [
    "## 🔁 Step 3: Churn Class Distribution\n",
    "\n",
    "We examined the distribution of the target variable: `Churn`."
   ]
  },
  {
   "cell_type": "code",
   "execution_count": 31,
   "id": "8b7ab419-cd7f-4a59-ba4c-82f3fd7d8243",
   "metadata": {},
   "outputs": [
    {
     "name": "stdout",
     "output_type": "stream",
     "text": [
      "🔁 Churn Class Distribution (%):\n",
      "Churn\n",
      "No     73.463013\n",
      "Yes    26.536987\n",
      "Name: proportion, dtype: float64\n",
      "\n",
      "--------------------------------------------------\n"
     ]
    }
   ],
   "source": [
    "# 🔁 Churn Class Distribution\n",
    "print(\"🔁 Churn Class Distribution (%):\")\n",
    "print(df['Churn'].value_counts(normalize=True) * 100)\n",
    "print(\"\\n\" + \"-\"*50)"
   ]
  },
  {
   "cell_type": "markdown",
   "id": "baf2ab4b-b301-4059-9333-85e49a6c6e9c",
   "metadata": {},
   "source": [
    "📌 **Results:**\n",
    "- **No (Did Not Churn):** ~73%\n",
    "- **Yes (Churned):** ~27%\n",
    "\n",
    "This indicates a **class imbalance**, which must be carefully handled during model training using techniques like:\n",
    "- Stratified sampling\n",
    "- Resampling (SMOTE, undersampling)\n",
    "- Evaluation metrics beyond accuracy (e.g., F1-score, AUC)\n",
    "\n",
    "Understanding this imbalance is crucial for building a realistic and effective prediction model.\n"
   ]
  },
  {
   "cell_type": "markdown",
   "id": "b4fe9592-ccb8-4a6b-b7d1-35de9c9cfa34",
   "metadata": {},
   "source": [
    "## 🔤 Step 4: Feature Type Separation — Categorical vs Numerical"
   ]
  },
  {
   "cell_type": "code",
   "execution_count": 32,
   "id": "a1150128-f83d-4e07-948f-c8cfdc7eb900",
   "metadata": {},
   "outputs": [
    {
     "name": "stdout",
     "output_type": "stream",
     "text": [
      "🔤 Categorical Columns:\n",
      "['customerID', 'gender', 'Partner', 'Dependents', 'PhoneService', 'MultipleLines', 'InternetService', 'OnlineSecurity', 'OnlineBackup', 'DeviceProtection', 'TechSupport', 'StreamingTV', 'StreamingMovies', 'Contract', 'PaperlessBilling', 'PaymentMethod', 'TotalCharges', 'Churn']\n",
      "\n",
      "--------------------------------------------------\n",
      "🔢 Numerical Columns:\n",
      "['SeniorCitizen', 'tenure', 'MonthlyCharges']\n",
      "\n",
      "--------------------------------------------------\n"
     ]
    }
   ],
   "source": [
    "# 🔤 Categorical Columns\n",
    "categorical = df.select_dtypes(include='object').columns\n",
    "print(\"🔤 Categorical Columns:\")\n",
    "print(categorical.tolist())\n",
    "print(\"\\n\" + \"-\"*50)\n",
    "\n",
    "# 🔢 Numerical Columns\n",
    "numerical = df.select_dtypes(exclude='object').columns\n",
    "print(\"🔢 Numerical Columns:\")\n",
    "print(numerical.tolist())\n",
    "print(\"\\n\" + \"-\"*50)"
   ]
  },
  {
   "cell_type": "markdown",
   "id": "d596b402-0325-44a9-8dbf-79b93c029ea0",
   "metadata": {},
   "source": [
    "We separated features based on their data types:\n",
    "\n",
    "- **Categorical Columns:** These include fields like `gender`, `Partner`, `Contract`, etc., stored as `object` types. These will need encoding before model training.\n",
    "- **Numerical Columns:** Such as `SeniorCitizen`, `tenure`, `MonthlyCharges`, and `TotalCharges`. These may require normalization or scaling.\n",
    "\n",
    "📌 This separation ensures that we apply the correct preprocessing techniques for each type of feature and helps in building a more accurate and interpretable model."
   ]
  },
  {
   "cell_type": "markdown",
   "id": "d956b488-dbaa-4b67-b4c7-fa2a7451da12",
   "metadata": {},
   "source": [
    "## 📊 Step 5: Exploratory Visual Analysis\n",
    "\n",
    "We created visual plots to understand key patterns and relationships."
   ]
  },
  {
   "cell_type": "markdown",
   "id": "c780ef57-3c0f-44a0-8bb0-0d0da9883665",
   "metadata": {},
   "source": [
    "## 📊 1. Churn Count by Contract Type\n",
    "\n",
    "We created a count plot to observe churn distribution across different contract types (`Month-to-month`, `One year`, `Two year`)."
   ]
  },
  {
   "cell_type": "code",
   "execution_count": 33,
   "id": "954124b4-77a4-4c8f-a09c-cedba764f13e",
   "metadata": {},
   "outputs": [
    {
     "name": "stdout",
     "output_type": "stream",
     "text": [
      "📊 Churn Count by Contract Type\n"
     ]
    },
    {
     "data": {
      "image/png": "[encoded data removed]",
      "text/plain": [
       "<Figure size 640x480 with 1 Axes>"
      ]
     },
     "metadata": {},
     "output_type": "display_data"
    }
   ],
   "source": [
    "# 🔍 Churn by Contract Type\n",
    "print(\"📊 Churn Count by Contract Type\")\n",
    "sns.countplot(x='Contract', hue='Churn', data=df)\n",
    "plt.title(\"Churn by Contract Type\")\n",
    "plt.savefig(\"churn_by_contract.png\")  # Save before plt.show()\n",
    "plt.show()"
   ]
  },
  {
   "cell_type": "markdown",
   "id": "e567b56a-a7e4-45cb-90df-63057ba99000",
   "metadata": {},
   "source": [
    "### 📌 Key Insights:\n",
    "- Customers on **Month-to-month contracts** have the **highest churn rate**.\n",
    "- Churn is significantly lower for those on **longer-term contracts** like `One year` and `Two year`.\n",
    "\n",
    "🔍 This shows that **contract type is a strong predictor** of churn — customers with flexible contracts are more likely to leave."
   ]
  },
  {
   "cell_type": "markdown",
   "id": "dc0f0b14-f99c-47bf-ba61-a1eaf642e92d",
   "metadata": {},
   "source": [
    "## 💸 2. Monthly Charges vs Churn\n",
    "\n",
    "A boxplot was used to compare the distribution of `MonthlyCharges` for churned and non-churned customers."
   ]
  },
  {
   "cell_type": "code",
   "execution_count": 34,
   "id": "79ab58db-5f3a-492f-9941-ebefa149c766",
   "metadata": {},
   "outputs": [
    {
     "name": "stdout",
     "output_type": "stream",
     "text": [
      "📊 Churn vs Monthly Charges\n"
     ]
    },
    {
     "data": {
      "image/png": "[encoded data removed]",
      "text/plain": [
       "<Figure size 640x480 with 1 Axes>"
      ]
     },
     "metadata": {},
     "output_type": "display_data"
    }
   ],
   "source": [
    "# 🔍 Churn vs Monthly Charges\n",
    "print(\"📊 Churn vs Monthly Charges\")\n",
    "sns.boxplot(x='Churn', y='MonthlyCharges', data=df)\n",
    "plt.title(\"Monthly Charges vs Churn\")\n",
    "plt.savefig(\"churn_by_contract.png\")  # Save before plt.show()\n",
    "plt.show()"
   ]
  },
  {
   "cell_type": "markdown",
   "id": "02ca09ab-f715-432c-9171-c549d2bf5356",
   "metadata": {},
   "source": [
    "## 📌 Key Insights:\n",
    "- Customers who **churned** tend to have **higher monthly charges**.\n",
    "- Non-churned customers are more spread across lower charge ranges.\n",
    "\n",
    "🔍 This suggests that **pricing sensitivity** might be a factor in customer attrition — those paying more may expect better service or are more likely to leave."
   ]
  },
  {
   "cell_type": "markdown",
   "id": "85779f1a-c855-4920-ae4d-8c4ca567eeab",
   "metadata": {},
   "source": [
    "## 📈 3. Tenure vs Churn (Histogram)\n",
    "\n",
    "We plotted a histogram to observe how `tenure` (number of months with the company) differs between churned and retained customers."
   ]
  },
  {
   "cell_type": "code",
   "execution_count": 35,
   "id": "695a9da3-6bb1-40e7-a11c-e7e1d55508a9",
   "metadata": {},
   "outputs": [
    {
     "name": "stdout",
     "output_type": "stream",
     "text": [
      "📊 Churn vs Tenure\n"
     ]
    },
    {
     "data": {
      "image/png": "[encoded data removed]",
      "text/plain": [
       "<Figure size 640x480 with 1 Axes>"
      ]
     },
     "metadata": {},
     "output_type": "display_data"
    }
   ],
   "source": [
    "# 🔍 Churn vs Tenure\n",
    "print(\"📊 Churn vs Tenure\")\n",
    "sns.histplot(data=df, x='tenure', hue='Churn', kde=True, multiple='stack')\n",
    "plt.title(\"Tenure Distribution by Churn\")\n",
    "plt.savefig(\"churn_by_contract.png\")  # Save before plt.show()\n",
    "plt.show()"
   ]
  },
  {
   "cell_type": "markdown",
   "id": "79a2285a-9c48-4540-be01-5718ba07175f",
   "metadata": {},
   "source": [
    "### 📌 Key Insights:\n",
    "- A large number of churned customers had **very short tenures** (0–10 months).\n",
    "- Customers with **longer tenures** were less likely to churn.\n",
    "\n",
    "🔍 This shows that **new customers are more likely to churn**, possibly due to unmet expectations or lack of engagement early in the customer lifecycle."
   ]
  },
  {
   "cell_type": "markdown",
   "id": "1ae5f894-f899-427c-a540-a4137767faf5",
   "metadata": {},
   "source": [
    "## 🌐 4. Internet Service Type vs Churn\n",
    "\n",
    "A count plot was created to analyze churn across different internet service types (`DSL`, `Fiber optic`, `No`)."
   ]
  },
  {
   "cell_type": "code",
   "execution_count": 36,
   "id": "ed3c4ebe-c085-4d0b-9763-a4cd2f16d1bd",
   "metadata": {},
   "outputs": [
    {
     "name": "stdout",
     "output_type": "stream",
     "text": [
      "📊 Churn Count by Internet Service Type\n"
     ]
    },
    {
     "data": {
      "image/png": "[encoded data removed]",
      "text/plain": [
       "<Figure size 640x480 with 1 Axes>"
      ]
     },
     "metadata": {},
     "output_type": "display_data"
    }
   ],
   "source": [
    "# 🔍 Internet Service vs Churn\n",
    "print(\"📊 Churn Count by Internet Service Type\")\n",
    "sns.countplot(x='InternetService', hue='Churn', data=df)\n",
    "plt.title(\"Churn by Internet Service Type\")\n",
    "plt.savefig(\"churn_by_contract.png\")  # Save before plt.show()\n",
    "plt.show()"
   ]
  },
  {
   "cell_type": "markdown",
   "id": "e1b491b4-3e9e-430c-b83f-68ddbf7cc477",
   "metadata": {},
   "source": [
    "### 📌 Key Insights:\n",
    "- Customers with **Fiber optic** service have the **highest churn rate**.\n",
    "- Those with **no internet service** have very low churn — possibly because they use minimal services or are on fixed landline plans.\n",
    "\n",
    "🔍 The quality or pricing of fiber optic plans may be driving customer dissatisfaction. This feature may play a key role in churn prediction."
   ]
  },
  {
   "cell_type": "markdown",
   "id": "2352e179-116c-4376-879b-16cec696f96d",
   "metadata": {},
   "source": [
    "# Phase 2: Feature Engineering + Model Building"
   ]
  },
  {
   "cell_type": "markdown",
   "id": "aea95aeb-2161-4190-a017-82a26062da93",
   "metadata": {},
   "source": [
    "## 🔧 Step 1: Data Cleaning & Type Conversion\n",
    "\n",
    "We began by converting the TotalCharges column from object to numeric, as some values were empty strings that prevented modeling.\n",
    "\n",
    "## 🔧 TotalCharges — Convert to Numeric"
   ]
  },
  {
   "cell_type": "code",
   "execution_count": 37,
   "id": "2c2432b0-bc95-46f8-a9f5-d155e1c80a3a",
   "metadata": {},
   "outputs": [
    {
     "name": "stdout",
     "output_type": "stream",
     "text": [
      "Missing values in TotalCharges after conversion: 11\n"
     ]
    }
   ],
   "source": [
    "# 🔢 Convert 'TotalCharges' to numeric (it’s object due to some empty strings)\n",
    "df['TotalCharges'] = pd.to_numeric(df['TotalCharges'], errors='coerce')\n",
    "\n",
    "# 🔍 Confirm how many missing values were created\n",
    "print(\"Missing values in TotalCharges after conversion:\", df['TotalCharges'].isnull().sum())\n",
    "\n",
    "# 🧹 Drop rows where TotalCharges is null\n",
    "df = df.dropna(subset=['TotalCharges'])"
   ]
  },
  {
   "cell_type": "markdown",
   "id": "1b75fbf0-a77c-48cf-b5a9-5cd7e801b246",
   "metadata": {},
   "source": [
    "• errors='coerce' replaces invalid entries (like blanks) with NaN.\n",
    "\n",
    "• We then dropped rows with missing values in TotalCharges.\n",
    "\n",
    "This step ensured that the column could be used in model training without causing ValueError."
   ]
  },
  {
   "cell_type": "markdown",
   "id": "95493d29-cbac-4809-a29b-ce8cc4fcb52a",
   "metadata": {},
   "source": [
    "## 🧪 Step 2: Encode Categorical Variables"
   ]
  },
  {
   "cell_type": "markdown",
   "id": "001c7174-fc3e-4c32-ba40-0acb8add1b30",
   "metadata": {},
   "source": [
    "Prepares the dataset for modeling by converting all categorical values (like “Yes/No”, “Male/Female”, etc.) into numerical form.\n",
    "\n",
    "Ensures the dataset has no missing values, and removes irrelevant columns like customerID.\n",
    "\n",
    "The final output shows the shape of the fully processed dataset — meaning the number of rows and columns now ready for machine learning."
   ]
  },
  {
   "cell_type": "code",
   "execution_count": 38,
   "id": "d57d7b5a-346c-40cd-9388-be3af608f11c",
   "metadata": {},
   "outputs": [
    {
     "name": "stdout",
     "output_type": "stream",
     "text": [
      "Encoded dataset shape: (7029, 7062)\n"
     ]
    }
   ],
   "source": [
    "from sklearn.preprocessing import LabelEncoder\n",
    "\n",
    "# Copy the cleaned dataset\n",
    "df_encoded = df.copy()\n",
    "\n",
    "# Label encode binary categorical columns\n",
    "binary_cols = ['Partner', 'Dependents', 'PhoneService', 'PaperlessBilling', 'Churn']\n",
    "\n",
    "le = LabelEncoder()\n",
    "for col in binary_cols:\n",
    "    df_encoded[col] = le.fit_transform(df_encoded[col])\n",
    "\n",
    "# One-hot encode remaining categorical columns\n",
    "df_encoded = pd.get_dummies(df_encoded, drop_first=True)\n",
    "\n",
    "# ✅ Safely drop 'customerID' if it exists\n",
    "if 'customerID' in df_encoded.columns:\n",
    "    df_encoded.drop('customerID', axis=1, inplace=True)\n",
    "\n",
    "# ✅ Drop any remaining rows with NaNs\n",
    "df_encoded.dropna(inplace=True)\n",
    "\n",
    "# (Optional) Confirm final dataset shape\n",
    "print(\"Encoded dataset shape:\", df_encoded.shape)"
   ]
  },
  {
   "cell_type": "markdown",
   "id": "0ad3d638-24b7-4bd4-be7f-d3cc79befbe5",
   "metadata": {},
   "source": [
    "It means:\n",
    "\n",
    "✅ You have 7032 rows of data (each row = 1 customer)\n",
    "\n",
    "✅ You have 30 numeric features (after all transformations), which will now be used to train your ML models\n",
    "\n",
    "This confirms your dataset is clean, numeric, and model-ready."
   ]
  },
  {
   "cell_type": "markdown",
   "id": "33258e48-34f9-4ab1-979c-e91f896a1dc5",
   "metadata": {},
   "source": [
    "## ✅ Step 3: Train/Test Split\n",
    "\n",
    "We divided the data into 80% training and 20% testing using train_test_split:"
   ]
  },
  {
   "cell_type": "code",
   "execution_count": 39,
   "id": "1452d7f3-d089-4328-93df-d19a86afdfb4",
   "metadata": {},
   "outputs": [],
   "source": [
    "from sklearn.model_selection import train_test_split\n",
    "\n",
    "X = df_encoded.drop('Churn', axis=1)\n",
    "y = df_encoded['Churn']\n",
    "\n",
    "X_train, X_test, y_train, y_test = train_test_split(X, y, test_size=0.2, random_state=42, stratify=y)"
   ]
  },
  {
   "cell_type": "markdown",
   "id": "7db5d148-3dfe-4148-9faa-2596ab90b40d",
   "metadata": {},
   "source": [
    "We separated features (X) and the target (y).\n",
    "\n",
    "Used stratify=y to preserve the original churn ratio in both train and test sets — this is critical for imbalanced classification tasks."
   ]
  },
  {
   "cell_type": "markdown",
   "id": "3b0659d0-1321-4c17-96e6-53284466c3d9",
   "metadata": {},
   "source": [
    "## ✅ Step 4: Build a Classification Model\n",
    "\n",
    "We trained and evaluated three models.\n",
    "\n",
    "### 📊 1. Logistic Regression."
   ]
  },
  {
   "cell_type": "code",
   "execution_count": 40,
   "id": "d1e2660a-78e0-49bb-90e7-aa6b0e2409ee",
   "metadata": {},
   "outputs": [
    {
     "name": "stdout",
     "output_type": "stream",
     "text": [
      "📊 Logistic Regression - Classification Report:\n",
      "\n",
      "              precision    recall  f1-score   support\n",
      "\n",
      "           0       0.84      0.88      0.86      1032\n",
      "           1       0.62      0.55      0.59       374\n",
      "\n",
      "    accuracy                           0.79      1406\n",
      "   macro avg       0.73      0.72      0.72      1406\n",
      "weighted avg       0.79      0.79      0.79      1406\n",
      "\n",
      "------------------------------------------------------------\n",
      "🧩 Confusion Matrix:\n",
      "\n",
      "True Negatives : 908\n",
      "False Positives: 124\n",
      "False Negatives: 168\n",
      "True Positives : 206\n"
     ]
    },
    {
     "name": "stderr",
     "output_type": "stream",
     "text": [
      "C:\\Users\\siyam\\anaconda3\\envs\\clean_env\\Lib\\site-packages\\sklearn\\linear_model\\_logistic.py:473: ConvergenceWarning: lbfgs failed to converge after 1000 iteration(s) (status=1):\n",
      "STOP: TOTAL NO. OF ITERATIONS REACHED LIMIT\n",
      "\n",
      "Increase the number of iterations to improve the convergence (max_iter=1000).\n",
      "You might also want to scale the data as shown in:\n",
      "    https://scikit-learn.org/stable/modules/preprocessing.html\n",
      "Please also refer to the documentation for alternative solver options:\n",
      "    https://scikit-learn.org/stable/modules/linear_model.html#logistic-regression\n",
      "  n_iter_i = _check_optimize_result(\n"
     ]
    }
   ],
   "source": [
    "from sklearn.linear_model import LogisticRegression\n",
    "from sklearn.metrics import classification_report, confusion_matrix\n",
    "\n",
    "model = LogisticRegression(max_iter=1000)\n",
    "model.fit(X_train, y_train)\n",
    "\n",
    "y_pred = model.predict(X_test)\n",
    "\n",
    "# 📊 Print Classification Report with Heading and Divider\n",
    "print(\"📊 Logistic Regression - Classification Report:\\n\")\n",
    "print(classification_report(y_test, y_pred))\n",
    "print(\"-\" * 60)\n",
    "\n",
    "# 🧩 Print Confusion Matrix with Clear Labels\n",
    "print(\"🧩 Confusion Matrix:\")\n",
    "cm = confusion_matrix(y_test, y_pred)\n",
    "print(f\"\\nTrue Negatives : {cm[0][0]}\")\n",
    "print(f\"False Positives: {cm[0][1]}\")\n",
    "print(f\"False Negatives: {cm[1][0]}\")\n",
    "print(f\"True Positives : {cm[1][1]}\")"
   ]
  },
  {
   "cell_type": "markdown",
   "id": "218e9e8c-376e-4625-bc6c-40fc9a92b5f4",
   "metadata": {},
   "source": [
    "max_iter=1000 prevents convergence warnings.\n",
    "\n",
    "Logistic Regression serves as our baseline model due to its simplicity and interpretability."
   ]
  },
  {
   "cell_type": "markdown",
   "id": "831f5b47-561e-4214-8be0-89ea3ea83462",
   "metadata": {},
   "source": [
    "### 🌳 2. Decision Tree Classifier"
   ]
  },
  {
   "cell_type": "code",
   "execution_count": 41,
   "id": "86f0a031-cb2c-4a7b-a383-84b2292d0e22",
   "metadata": {},
   "outputs": [
    {
     "name": "stdout",
     "output_type": "stream",
     "text": [
      "🌳 Decision Tree - Classification Report:\n",
      "\n",
      "              precision    recall  f1-score   support\n",
      "\n",
      "           0       0.82      0.87      0.84      1032\n",
      "           1       0.56      0.47      0.51       374\n",
      "\n",
      "    accuracy                           0.76      1406\n",
      "   macro avg       0.69      0.67      0.68      1406\n",
      "weighted avg       0.75      0.76      0.75      1406\n",
      "\n",
      "------------------------------------------------------------\n",
      "🧩 Decision Tree - Confusion Matrix:\n",
      "\n",
      "True Negatives : 896\n",
      "False Positives: 136\n",
      "False Negatives: 199\n",
      "True Positives : 175\n"
     ]
    }
   ],
   "source": [
    "from sklearn.tree import DecisionTreeClassifier\n",
    "from sklearn.metrics import classification_report, confusion_matrix\n",
    "\n",
    "# Initialize and train the Decision Tree\n",
    "dt_model = DecisionTreeClassifier(random_state=42)\n",
    "dt_model.fit(X_train, y_train)\n",
    "\n",
    "# Predict and evaluate\n",
    "dt_preds = dt_model.predict(X_test)\n",
    "\n",
    "print(\"🌳 Decision Tree - Classification Report:\\n\")\n",
    "print(classification_report(y_test, dt_preds))\n",
    "print(\"-\" * 60)\n",
    "\n",
    "print(\"🧩 Decision Tree - Confusion Matrix:\")\n",
    "cm_dt = confusion_matrix(y_test, dt_preds)\n",
    "print(f\"\\nTrue Negatives : {cm_dt[0][0]}\")\n",
    "print(f\"False Positives: {cm_dt[0][1]}\")\n",
    "print(f\"False Negatives: {cm_dt[1][0]}\")\n",
    "print(f\"True Positives : {cm_dt[1][1]}\")\n"
   ]
  },
  {
   "cell_type": "markdown",
   "id": "93c8ba78-2d34-4d24-879a-b625ad10ffa9",
   "metadata": {},
   "source": [
    "A non-linear, rule-based model that’s easy to interpret.\n",
    "\n",
    "Tends to overfit, but helps us understand basic splits in the data."
   ]
  },
  {
   "cell_type": "markdown",
   "id": "379d2e83-86a4-48f0-8132-c92275ad967d",
   "metadata": {},
   "source": [
    "### 🌲 3. Random Forest Classifier"
   ]
  },
  {
   "cell_type": "code",
   "execution_count": 42,
   "id": "45dff2f3-9dce-457c-8014-7a340397dc0f",
   "metadata": {},
   "outputs": [
    {
     "name": "stdout",
     "output_type": "stream",
     "text": [
      "🌲 Random Forest - Classification Report:\n",
      "\n",
      "              precision    recall  f1-score   support\n",
      "\n",
      "           0       0.82      0.91      0.86      1032\n",
      "           1       0.65      0.45      0.53       374\n",
      "\n",
      "    accuracy                           0.79      1406\n",
      "   macro avg       0.73      0.68      0.70      1406\n",
      "weighted avg       0.77      0.79      0.78      1406\n",
      "\n",
      "------------------------------------------------------------\n",
      "🧩 Random Forest - Confusion Matrix:\n",
      "\n",
      "True Negatives : 939\n",
      "False Positives: 93\n",
      "False Negatives: 204\n",
      "True Positives : 170\n"
     ]
    }
   ],
   "source": [
    "from sklearn.ensemble import RandomForestClassifier\n",
    "\n",
    "# Initialize and train the Random Forest\n",
    "rf_model = RandomForestClassifier(n_estimators=100, random_state=42)\n",
    "rf_model.fit(X_train, y_train)\n",
    "\n",
    "# Predict and evaluate\n",
    "rf_preds = rf_model.predict(X_test)\n",
    "\n",
    "print(\"🌲 Random Forest - Classification Report:\\n\")\n",
    "print(classification_report(y_test, rf_preds))\n",
    "print(\"-\" * 60)\n",
    "\n",
    "print(\"🧩 Random Forest - Confusion Matrix:\")\n",
    "cm_rf = confusion_matrix(y_test, rf_preds)\n",
    "print(f\"\\nTrue Negatives : {cm_rf[0][0]}\")\n",
    "print(f\"False Positives: {cm_rf[0][1]}\")\n",
    "print(f\"False Negatives: {cm_rf[1][0]}\")\n",
    "print(f\"True Positives : {cm_rf[1][1]}\")\n"
   ]
  },
  {
   "cell_type": "markdown",
   "id": "faf84c48-8e28-4f72-b757-249d534a1fca",
   "metadata": {},
   "source": [
    "An ensemble model with 100 decision trees.\n",
    "\n",
    "Handles non-linearities, overfitting, and feature interactions much better than a single tree.\n",
    "\n",
    "We then printed the Classification Report and Confusion Matrix for each model using formatted outputs to make them clear and professional."
   ]
  },
  {
   "cell_type": "markdown",
   "id": "c42f6518-b65a-4455-8ca1-146e64bba901",
   "metadata": {},
   "source": [
    "## ✅ Step 5: Compare Model Performance"
   ]
  },
  {
   "cell_type": "code",
   "execution_count": 43,
   "id": "c49d06f9-12e7-416e-b28a-e9ddcd4cd175",
   "metadata": {},
   "outputs": [
    {
     "name": "stdout",
     "output_type": "stream",
     "text": [
      "\n",
      "📊 Model Performance Comparison:\n",
      "\n",
      "              Model  Accuracy  Precision (Churn)  Recall (Churn)  F1-score (Churn)  True Negatives  False Positives  False Negatives  True Positives\n",
      "Logistic Regression    0.7923             0.6242          0.5508            0.5852             908              124              168             206\n",
      "      Decision Tree    0.7617             0.5627          0.4679            0.5109             896              136              199             175\n",
      "      Random Forest    0.7888             0.6464          0.4545            0.5338             939               93              204             170\n"
     ]
    }
   ],
   "source": [
    "from sklearn.metrics import accuracy_score, precision_score, recall_score, f1_score, confusion_matrix\n",
    "import pandas as pd\n",
    "\n",
    "# Collect predictions\n",
    "log_preds = y_pred                  # From Logistic Regression\n",
    "dt_preds = dt_preds                 # From Decision Tree\n",
    "rf_preds = rf_preds                 # From Random Forest\n",
    "\n",
    "# Prepare storage\n",
    "models = ['Logistic Regression', 'Decision Tree', 'Random Forest']\n",
    "predictions = [log_preds, dt_preds, rf_preds]\n",
    "metrics = []\n",
    "\n",
    "# Collect metrics\n",
    "for name, preds in zip(models, predictions):\n",
    "    acc = accuracy_score(y_test, preds)\n",
    "    precision = precision_score(y_test, preds)\n",
    "    recall = recall_score(y_test, preds)\n",
    "    f1 = f1_score(y_test, preds)\n",
    "    cm = confusion_matrix(y_test, preds)\n",
    "    tn, fp, fn, tp = cm.ravel()\n",
    "\n",
    "    metrics.append({\n",
    "        'Model': name,\n",
    "        'Accuracy': round(acc, 4),\n",
    "        'Precision (Churn)': round(precision, 4),\n",
    "        'Recall (Churn)': round(recall, 4),\n",
    "        'F1-score (Churn)': round(f1, 4),\n",
    "        'True Negatives': tn,\n",
    "        'False Positives': fp,\n",
    "        'False Negatives': fn,\n",
    "        'True Positives': tp\n",
    "    })\n",
    "\n",
    "# Create DataFrame\n",
    "results_df = pd.DataFrame(metrics)\n",
    "\n",
    "# Display\n",
    "print(\"\\n📊 Model Performance Comparison:\\n\")\n",
    "print(results_df.to_string(index=False))\n"
   ]
  },
  {
   "cell_type": "markdown",
   "id": "11ebde6c-6411-45ae-b59f-e905bf08c7e7",
   "metadata": {},
   "source": [
    "We generated a table comparing:\n",
    "\n",
    "• Accuracy\n",
    "\n",
    "• Precision / Recall / F1-score for churn class (1)\n",
    "\n",
    "• Confusion matrix values (TN, FP, FN, TP)\n",
    "\n",
    "This gave us a consolidated view of all models' performance to support informed selection."
   ]
  },
  {
   "cell_type": "markdown",
   "id": "3e5555de-3a3b-479f-8cf3-f9f7367a4aa8",
   "metadata": {},
   "source": [
    "## 📊 Step 6: Extracting Feature Importances from the Random Forest Model\n",
    "\n",
    "In this step, we extract the **feature importances** directly from the trained Random Forest model using its `.feature_importances_` attribute. This helps us understand which features had the greatest influence on the model's predictions.\n",
    "\n",
    "We then store the features and their importance scores in a DataFrame called `importance_df`, and sort it in descending order to bring the most impactful features to the top. This structured view is essential before visualizing the results.\n"
   ]
  },
  {
   "cell_type": "code",
   "execution_count": 44,
   "id": "6bdc712f-5ce3-40e0-9722-ef2cba46e180",
   "metadata": {},
   "outputs": [],
   "source": [
    "# Get feature importances directly from the model\n",
    "importances = rf_model.feature_importances_\n",
    "features = X_train.columns\n",
    "\n",
    "# Create a DataFrame\n",
    "importance_df = pd.DataFrame({'Feature': features, 'Importance': importances})\n",
    "importance_df = importance_df.sort_values(by='Importance', ascending=False)\n",
    "\n"
   ]
  },
  {
   "cell_type": "markdown",
   "id": "23be20ec-d7e6-4ff8-a8d4-cf8bebe71f89",
   "metadata": {},
   "source": [
    "## 📈 Top 15 Feature Importances (Random Forest)"
   ]
  },
  {
   "cell_type": "code",
   "execution_count": 45,
   "id": "170bd2f7-16e9-4051-a3fa-345b192b4f77",
   "metadata": {},
   "outputs": [
    {
     "data": {
      "image/png": "[encoded data removed]",
      "text/plain": [
       "<Figure size 1000x600 with 1 Axes>"
      ]
     },
     "metadata": {},
     "output_type": "display_data"
    }
   ],
   "source": [
    "# PLot\n",
    "# Get top 15 most important features\n",
    "top_features = importance_df.head(15)\n",
    "\n",
    "# Plot\n",
    "plt.figure(figsize=(10, 6))\n",
    "plt.barh(top_features['Feature'], top_features['Importance'], color='steelblue')\n",
    "plt.gca().invert_yaxis()\n",
    "plt.title('Top 15 Feature Importances (Random Forest)')\n",
    "plt.xlabel('Importance Score')\n",
    "plt.tight_layout()\n",
    "plt.show()\n"
   ]
  },
  {
   "cell_type": "markdown",
   "id": "3b26536d-12b8-46de-bd6c-f65aef2fa7dd",
   "metadata": {},
   "source": [
    "This plot visualizes the top 15 most important features used by the Random Forest model. Features are ranked based on their importance scores, with the most influential ones shown at the top.\n",
    "\n",
    "This helps in identifying the key drivers of customer churn and is useful for both model interpretation and business strategy."
   ]
  },
  {
   "cell_type": "markdown",
   "id": "a00c5d22-86a7-4122-84e4-8301403f4474",
   "metadata": {},
   "source": [
    "## ✅ Step 7: Customer Segmentation\n",
    "\n",
    "In this step, we used the predicted churn values from our trained model (e.g., Random Forest) along with customer `tenure` to segment customers into meaningful business categories.\n",
    "\n",
    "The segmentation logic is as follows:\n",
    "\n",
    "- If the model predicts **churn = 1**, we label the customer as **\"At Risk\"**\n",
    "- If churn = 0 and **tenure < 12 months**, the customer is labeled **\"Dormant\"**\n",
    "- If churn = 0 and **tenure ≥ 12 months**, the customer is labeled **\"Loyal\"**\n",
    "\n",
    "This logic is implemented using a custom function and applied row-wise using `.apply()`."
   ]
  },
  {
   "cell_type": "code",
   "execution_count": 46,
   "id": "7655eb9c-df95-4fd1-b237-29c503b7b2a8",
   "metadata": {},
   "outputs": [
    {
     "name": "stdout",
     "output_type": "stream",
     "text": [
      "📌 Sample Segmented Data:\n",
      "      PredictedChurn  tenure CustomerSegment\n",
      "3782               1    12.0         At Risk\n",
      "87                 0    48.0           Loyal\n",
      "117                1    10.0         At Risk\n",
      "431                0    72.0           Loyal\n",
      "3172               0    25.0           Loyal\n"
     ]
    }
   ],
   "source": [
    "# Start with a copy of X_test to keep the features\n",
    "df_segments = X_test.copy()\n",
    "\n",
    "# Add true labels and predicted labels\n",
    "df_segments['ActualChurn'] = y_test.values\n",
    "df_segments['PredictedChurn'] = rf_preds  # or use logistic_preds/dt_preds\n",
    "\n",
    "# Add tenure from the original test set (if not already present)\n",
    "df_segments['tenure'] = df.loc[df_segments.index, 'tenure']\n",
    "\n",
    "# 🏷 Assign segment labels\n",
    "def segment(row):\n",
    "    if row['PredictedChurn'] == 1:\n",
    "        return 'At Risk'\n",
    "    elif row['tenure'] < 12:\n",
    "        return 'Dormant'\n",
    "    else:\n",
    "        return 'Loyal'\n",
    "\n",
    "df_segments['CustomerSegment'] = df_segments.apply(segment, axis=1)\n",
    "\n",
    "# Optional: View a sample\n",
    "print(\"📌 Sample Segmented Data:\")\n",
    "print(df_segments[['PredictedChurn', 'tenure', 'CustomerSegment']].head())\n"
   ]
  },
  {
   "cell_type": "markdown",
   "id": "64c2f746-5756-467f-8585-eeaa3cc27643",
   "metadata": {},
   "source": [
    "📤 The output of this block creates a new column called `CustomerSegment`, which contains segment labels for every customer in the test set. This column adds business context to the predictions.\n",
    "\n",
    "✅ This segmentation will be especially valuable in the **Power BI dashboard**, allowing us to:\n",
    "- Visualize churn risks by segment\n",
    "- Compare behavior patterns between loyal, dormant, and at-risk customers\n",
    "- Support strategic retention recommendations"
   ]
  },
  {
   "cell_type": "markdown",
   "id": "93702425-e15f-49c1-aa38-7c571c994264",
   "metadata": {},
   "source": [
    "## 📦 Creating Final Export DataFrame for Power BI\n",
    "\n",
    "In this step, we prepared a clean and structured DataFrame to export for Power BI dashboarding.\n",
    "\n",
    "The DataFrame includes:\n",
    "- The original features from the test set (e.g., `tenure`, `MonthlyCharges`, `Contract`, etc.)\n",
    "- Model outputs such as `PredictedChurn` and `ActualChurn`\n",
    "- A newly created `CustomerSegment` column using churn prediction and tenure logic\n",
    "\n",
    "This enriched dataset helps us analyze customer behavior in Power BI and visualize churn risks through segments like \"At Risk\", \"Loyal\", and \"Dormant\".\n"
   ]
  },
  {
   "cell_type": "code",
   "execution_count": 47,
   "id": "b55668f6-62d8-42a0-bdf3-34536aaf8792",
   "metadata": {},
   "outputs": [
    {
     "data": {
      "text/html": [
       "<div>\n",
       "<style scoped>\n",
       "    .dataframe tbody tr th:only-of-type {\n",
       "        vertical-align: middle;\n",
       "    }\n",
       "\n",
       "    .dataframe tbody tr th {\n",
       "        vertical-align: top;\n",
       "    }\n",
       "\n",
       "    .dataframe thead th {\n",
       "        text-align: right;\n",
       "    }\n",
       "</style>\n",
       "<table border=\"1\" class=\"dataframe\">\n",
       "  <thead>\n",
       "    <tr style=\"text-align: right;\">\n",
       "      <th></th>\n",
       "      <th>SeniorCitizen</th>\n",
       "      <th>Partner</th>\n",
       "      <th>Dependents</th>\n",
       "      <th>tenure</th>\n",
       "      <th>PhoneService</th>\n",
       "      <th>PaperlessBilling</th>\n",
       "      <th>MonthlyCharges</th>\n",
       "      <th>TotalCharges</th>\n",
       "      <th>customerID_0003-MKNFE</th>\n",
       "      <th>customerID_0004-TLHLJ</th>\n",
       "      <th>...</th>\n",
       "      <th>Contract_Two year</th>\n",
       "      <th>PaymentMethod_Credit card (automatic)</th>\n",
       "      <th>PaymentMethod_Electronic check</th>\n",
       "      <th>PaymentMethod_Mailed check</th>\n",
       "      <th>PredictedChurn</th>\n",
       "      <th>ActualChurn</th>\n",
       "      <th>Contract</th>\n",
       "      <th>gender</th>\n",
       "      <th>PaymentMethod</th>\n",
       "      <th>CustomerSegment</th>\n",
       "    </tr>\n",
       "  </thead>\n",
       "  <tbody>\n",
       "    <tr>\n",
       "      <th>3782</th>\n",
       "      <td>0</td>\n",
       "      <td>0</td>\n",
       "      <td>1</td>\n",
       "      <td>12.0</td>\n",
       "      <td>1</td>\n",
       "      <td>1</td>\n",
       "      <td>84.05</td>\n",
       "      <td>966.55</td>\n",
       "      <td>False</td>\n",
       "      <td>False</td>\n",
       "      <td>...</td>\n",
       "      <td>False</td>\n",
       "      <td>False</td>\n",
       "      <td>True</td>\n",
       "      <td>False</td>\n",
       "      <td>1</td>\n",
       "      <td>0</td>\n",
       "      <td>Month-to-month</td>\n",
       "      <td>Female</td>\n",
       "      <td>Electronic check</td>\n",
       "      <td>At Risk</td>\n",
       "    </tr>\n",
       "    <tr>\n",
       "      <th>87</th>\n",
       "      <td>0</td>\n",
       "      <td>1</td>\n",
       "      <td>1</td>\n",
       "      <td>48.0</td>\n",
       "      <td>1</td>\n",
       "      <td>0</td>\n",
       "      <td>20.65</td>\n",
       "      <td>1057.00</td>\n",
       "      <td>False</td>\n",
       "      <td>False</td>\n",
       "      <td>...</td>\n",
       "      <td>True</td>\n",
       "      <td>False</td>\n",
       "      <td>False</td>\n",
       "      <td>False</td>\n",
       "      <td>0</td>\n",
       "      <td>0</td>\n",
       "      <td>Two year</td>\n",
       "      <td>Female</td>\n",
       "      <td>Bank transfer (automatic)</td>\n",
       "      <td>Loyal</td>\n",
       "    </tr>\n",
       "    <tr>\n",
       "      <th>117</th>\n",
       "      <td>0</td>\n",
       "      <td>1</td>\n",
       "      <td>1</td>\n",
       "      <td>10.0</td>\n",
       "      <td>1</td>\n",
       "      <td>1</td>\n",
       "      <td>100.25</td>\n",
       "      <td>1064.65</td>\n",
       "      <td>False</td>\n",
       "      <td>False</td>\n",
       "      <td>...</td>\n",
       "      <td>False</td>\n",
       "      <td>False</td>\n",
       "      <td>True</td>\n",
       "      <td>False</td>\n",
       "      <td>1</td>\n",
       "      <td>1</td>\n",
       "      <td>Month-to-month</td>\n",
       "      <td>Female</td>\n",
       "      <td>Electronic check</td>\n",
       "      <td>At Risk</td>\n",
       "    </tr>\n",
       "    <tr>\n",
       "      <th>431</th>\n",
       "      <td>0</td>\n",
       "      <td>1</td>\n",
       "      <td>1</td>\n",
       "      <td>72.0</td>\n",
       "      <td>0</td>\n",
       "      <td>1</td>\n",
       "      <td>65.20</td>\n",
       "      <td>4784.45</td>\n",
       "      <td>False</td>\n",
       "      <td>False</td>\n",
       "      <td>...</td>\n",
       "      <td>True</td>\n",
       "      <td>True</td>\n",
       "      <td>False</td>\n",
       "      <td>False</td>\n",
       "      <td>0</td>\n",
       "      <td>0</td>\n",
       "      <td>Two year</td>\n",
       "      <td>Female</td>\n",
       "      <td>Credit card (automatic)</td>\n",
       "      <td>Loyal</td>\n",
       "    </tr>\n",
       "    <tr>\n",
       "      <th>3172</th>\n",
       "      <td>0</td>\n",
       "      <td>0</td>\n",
       "      <td>1</td>\n",
       "      <td>25.0</td>\n",
       "      <td>1</td>\n",
       "      <td>1</td>\n",
       "      <td>95.90</td>\n",
       "      <td>2448.75</td>\n",
       "      <td>False</td>\n",
       "      <td>False</td>\n",
       "      <td>...</td>\n",
       "      <td>False</td>\n",
       "      <td>False</td>\n",
       "      <td>True</td>\n",
       "      <td>False</td>\n",
       "      <td>0</td>\n",
       "      <td>1</td>\n",
       "      <td>Month-to-month</td>\n",
       "      <td>Male</td>\n",
       "      <td>Electronic check</td>\n",
       "      <td>Loyal</td>\n",
       "    </tr>\n",
       "  </tbody>\n",
       "</table>\n",
       "<p>5 rows × 7067 columns</p>\n",
       "</div>"
      ],
      "text/plain": [
       "      SeniorCitizen  Partner  Dependents  tenure  PhoneService  \\\n",
       "3782              0        0           1    12.0             1   \n",
       "87                0        1           1    48.0             1   \n",
       "117               0        1           1    10.0             1   \n",
       "431               0        1           1    72.0             0   \n",
       "3172              0        0           1    25.0             1   \n",
       "\n",
       "      PaperlessBilling  MonthlyCharges  TotalCharges  customerID_0003-MKNFE  \\\n",
       "3782                 1           84.05        966.55                  False   \n",
       "87                   0           20.65       1057.00                  False   \n",
       "117                  1          100.25       1064.65                  False   \n",
       "431                  1           65.20       4784.45                  False   \n",
       "3172                 1           95.90       2448.75                  False   \n",
       "\n",
       "      customerID_0004-TLHLJ  ...  Contract_Two year  \\\n",
       "3782                  False  ...              False   \n",
       "87                    False  ...               True   \n",
       "117                   False  ...              False   \n",
       "431                   False  ...               True   \n",
       "3172                  False  ...              False   \n",
       "\n",
       "      PaymentMethod_Credit card (automatic)  PaymentMethod_Electronic check  \\\n",
       "3782                                  False                            True   \n",
       "87                                    False                           False   \n",
       "117                                   False                            True   \n",
       "431                                    True                           False   \n",
       "3172                                  False                            True   \n",
       "\n",
       "      PaymentMethod_Mailed check  PredictedChurn  ActualChurn        Contract  \\\n",
       "3782                       False               1            0  Month-to-month   \n",
       "87                         False               0            0        Two year   \n",
       "117                        False               1            1  Month-to-month   \n",
       "431                        False               0            0        Two year   \n",
       "3172                       False               0            1  Month-to-month   \n",
       "\n",
       "      gender              PaymentMethod  CustomerSegment  \n",
       "3782  Female           Electronic check          At Risk  \n",
       "87    Female  Bank transfer (automatic)            Loyal  \n",
       "117   Female           Electronic check          At Risk  \n",
       "431   Female    Credit card (automatic)            Loyal  \n",
       "3172    Male           Electronic check            Loyal  \n",
       "\n",
       "[5 rows x 7067 columns]"
      ]
     },
     "execution_count": 47,
     "metadata": {},
     "output_type": "execute_result"
    }
   ],
   "source": [
    "# Start with a copy of X_test\n",
    "final_df = X_test.copy()\n",
    "\n",
    "# Add predictions and actual values\n",
    "final_df['PredictedChurn'] = rf_preds\n",
    "final_df['ActualChurn'] = y_test.values\n",
    "\n",
    "# Add original columns like tenure, MonthlyCharges, etc.\n",
    "# (if not already present)\n",
    "final_df['tenure'] = df.loc[final_df.index, 'tenure']\n",
    "final_df['MonthlyCharges'] = df.loc[final_df.index, 'MonthlyCharges']\n",
    "final_df['TotalCharges'] = df.loc[final_df.index, 'TotalCharges']\n",
    "final_df['Contract'] = df.loc[final_df.index, 'Contract']\n",
    "final_df['gender'] = df.loc[final_df.index, 'gender']\n",
    "final_df['SeniorCitizen'] = df.loc[final_df.index, 'SeniorCitizen']\n",
    "final_df['PaymentMethod'] = df.loc[final_df.index, 'PaymentMethod']\n",
    "\n",
    "# Add segmentation\n",
    "def segment(row):\n",
    "    if row['PredictedChurn'] == 1:\n",
    "        return 'At Risk'\n",
    "    elif row['tenure'] < 12:\n",
    "        return 'Dormant'\n",
    "    else:\n",
    "        return 'Loyal'\n",
    "\n",
    "final_df['CustomerSegment'] = final_df.apply(segment, axis=1)\n",
    "\n",
    "# Preview\n",
    "final_df.head()\n"
   ]
  },
  {
   "cell_type": "markdown",
   "id": "8c8e6359-3762-4199-8b35-4bf25b67d472",
   "metadata": {},
   "source": [
    "At this point, we did not yet include the `customerID`. Later, when attempting to add it separately (possibly multiple times), it led to the creation of **duplicate columns** like `customerID.1`, `customerID.2`, etc. This was resolved in a later step by retaining only the original `customerID` and removing all duplicates."
   ]
  },
  {
   "cell_type": "markdown",
   "id": "cc73f5fc-44db-41be-99c9-fb3802c3d5b5",
   "metadata": {},
   "source": [
    "## 🧹 Cleaning Duplicate `customerID` Columns and Reordering\n",
    "\n",
    "To resolve the issue caused by accidentally adding `customerID` multiple times in earlier steps (resulting in columns like `customerID.1`, `customerID.2`, etc.), we applied the following cleanup process:\n",
    "\n",
    "- ✅ **Step 1:** Added the original `customerID` from the main dataset (`df`) using aligned index positions, ensuring it's included once and correctly.\n",
    "- 🧼 **Step 2:** Removed all other unintended duplicate columns whose names contained `'customerID'` but were not the original one.\n",
    "- 🎯 **Step 3:** Reordered the columns to bring `customerID` to the front, which improves readability and usability when designing visuals in Power BI.\n",
    "\n",
    "This ensures that the final DataFrame is clean, organized, and free of redundant columns — making it ready for export and dashboard use.\n"
   ]
  },
  {
   "cell_type": "code",
   "execution_count": 48,
   "id": "3b1ed0bb-0502-4fcf-a4d8-ed8430cdd147",
   "metadata": {},
   "outputs": [],
   "source": [
    "# STEP 1: Add original customerID column just once (if not already)\n",
    "final_df['customerID'] = df.loc[final_df.index, 'customerID']\n",
    "\n",
    "# STEP 2: Drop all other columns with names like 'customerID.1', 'customerID.2', etc.\n",
    "for col in final_df.columns:\n",
    "    if 'customerID' in col and col != 'customerID':\n",
    "        final_df.drop(col, axis=1, inplace=True)\n",
    "\n",
    "# STEP 3: Reorder customerID to appear first (optional, but nice for Power BI)\n",
    "cols = ['customerID'] + [col for col in final_df.columns if col != 'customerID']\n",
    "final_df = final_df[cols]"
   ]
  },
  {
   "cell_type": "markdown",
   "id": "49c23183-bbb3-464e-babb-44697a63afef",
   "metadata": {},
   "source": [
    "## 💾 Exporting the Final Dataset to CSV\n",
    "\n",
    "After creating the final export-ready DataFrame, we saved it as a `.csv` file using the `to_csv()` function.\n",
    "\n",
    "The output file, named **`churn_dashboard_data.csv`**, contains all the processed customer information, predictions, and segments. This file will be used as the primary data source for building our interactive Power BI dashboard."
   ]
  },
  {
   "cell_type": "code",
   "execution_count": 49,
   "id": "d5a46d53-6c3d-4e14-b2b9-fd0b22f23056",
   "metadata": {},
   "outputs": [
    {
     "name": "stdout",
     "output_type": "stream",
     "text": [
      "✅ Exported successfully as churn_dashboard_data.csv\n"
     ]
    }
   ],
   "source": [
    "# Export to CSV\n",
    "final_df.to_csv(\"churn_dashboard_data.csv\", index=False)\n",
    "print(\"✅ Exported successfully as churn_dashboard_data.csv\")"
   ]
  },
  {
   "cell_type": "code",
   "execution_count": null,
   "id": "2a04d818-41e6-4686-9e09-edde4f96f4ca",
   "metadata": {},
   "outputs": [],
   "source": []
  }
 ],
 "metadata": {
  "kernelspec": {
   "display_name": "Python [conda env:clean_env]",
   "language": "python",
   "name": "conda-env-clean_env-py"
  },
  "language_info": {
   "codemirror_mode": {
    "name": "ipython",
    "version": 3
   },
   "file_extension": ".py",
   "mimetype": "text/x-python",
   "name": "python",
   "nbconvert_exporter": "python",
   "pygments_lexer": "ipython3",
   "version": "3.11.13"
  }
 },
 "nbformat": 4,
 "nbformat_minor": 5
}
